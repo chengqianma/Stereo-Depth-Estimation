{
 "cells": [
  {
   "cell_type": "code",
   "execution_count": null,
   "metadata": {},
   "outputs": [],
   "source": [
    "import Test_img\n",
    "import pickle\n"
   ]
  },
  {
   "cell_type": "code",
   "execution_count": null,
   "metadata": {},
   "outputs": [],
   "source": [
    "def generate_depth_file(path_left, path_right, baseline, focal, pixel_size):\n",
    "    info = Test_img.main(path_left, path_right)\n",
    "    for i in range(len(info)):\n",
    "        for j in range(len(info[0])):\n",
    "            info[i][j] = (baseline * focal) / (info[i][j] * 2 * pixel_size)\n",
    "    file = open(\"depth_info.pkl\", \"wb\") \n",
    "    pickle.dump(info, file)"
   ]
  }
 ],
 "metadata": {
  "kernelspec": {
   "display_name": "Python 3",
   "language": "python",
   "name": "python3"
  },
  "language_info": {
   "codemirror_mode": {
    "name": "ipython",
    "version": 3
   },
   "file_extension": ".py",
   "mimetype": "text/x-python",
   "name": "python",
   "nbconvert_exporter": "python",
   "pygments_lexer": "ipython3",
   "version": "3.6.5"
  }
 },
 "nbformat": 4,
 "nbformat_minor": 2
}
